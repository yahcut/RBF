{
 "cells": [
  {
   "cell_type": "code",
   "execution_count": null,
   "metadata": {},
   "outputs": [],
   "source": [
    "#Import libraries\n",
    "\n",
    "import rasterio\n",
    "import geopandas as gpd\n",
    "import numpy as np\n",
    "from rasterio.mask import mask\n",
    "from shapely.geometry import Polygon, MultiPolygon\n"
   ]
  },
  {
   "cell_type": "code",
   "execution_count": null,
   "metadata": {},
   "outputs": [],
   "source": [
    "# DATASET\n",
    "Built-up='add your built-up geotiff layer'\n",
    "building_polygon='add your polygon shapefile'"
   ]
  },
  {
   "cell_type": "code",
   "execution_count": null,
   "metadata": {},
   "outputs": [],
   "source": [
    "#RBF Application\n",
    "# Load the land cover raster\n",
    "with rasterio.open(Built-up) as src:\n",
    "    raster = src.read(1)  # Assuming the raster data is in the first band\n",
    "    affine = src.transform\n",
    "    crs = src.crs  # Coordinate reference system\n",
    "\n",
    "# Load the building polygon shapefile\n",
    "shapefile_path = building_polygon\n",
    "buildings = gpd.read_file(shapefile_path)\n",
    "\n",
    "# Reproject buildings to the same CRS as the raster, if necessary\n",
    "if buildings.crs != crs:\n",
    "    buildings = buildings.to_crs(crs)\n",
    "\n",
    "# Filter out invalid geometries (if any)\n",
    "buildings = buildings[buildings.geometry.notnull()]\n",
    "\n",
    "# Ensure only valid Polygon or MultiPolygon geometries are used\n",
    "valid_geometries = buildings[buildings.geometry.apply(lambda g: isinstance(g, (Polygon, MultiPolygon)))]\n",
    "\n",
    "# Convert the valid geometries to GeoJSON format for rasterio masking\n",
    "geometries = [feature['geometry'] for feature in valid_geometries.__geo_interface__['features']]\n",
    "\n",
    "# Apply the mask to extract only the pixels within the valid building polygons\n",
    "with rasterio.open(Built-up) as src:\n",
    "    out_image, out_transform = mask(src, geometries, crop=True)\n",
    "    out_meta = src.meta\n",
    "\n",
    "# Extract only the built-up pixels: Depend on built-up layer property. \n",
    "# Some could use different pixel value\n",
    "built_up_pixels = np.where(out_image == 1, out_image, 0)\n",
    "\n",
    "\n",
    "# Save the masked raster with built-up area pixels\n",
    "out_meta.update({\"driver\": \"GTiff\", \"height\": built_up_pixels.shape[1], \"width\": built_up_pixels.shape[2], \"transform\": out_transform})\n",
    "\n",
    "RBF_raster = 'At your saving path*.tif'\n",
    "with rasterio.open(RBF_raster, 'w', **out_meta) as dest:\n",
    "    dest.write(built_up_pixels)\n",
    "\n",
    "print(\"Built-up area pixels have been extracted and saved.\")"
   ]
  }
 ],
 "metadata": {
  "language_info": {
   "name": "python"
  }
 },
 "nbformat": 4,
 "nbformat_minor": 2
}
